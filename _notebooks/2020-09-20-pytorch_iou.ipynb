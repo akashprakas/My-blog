{
 "cells": [
  {
   "cell_type": "markdown",
   "metadata": {
    "jupyter": {
     "outputs_hidden": true
    }
   },
   "source": [
    "# Explaining IoU\n",
    "\n",
    "- toc: true \n",
    "- badges: true\n",
    "- comments: true\n",
    "- categories: [jupyter]\n",
    "- image: images/chart-preview.png"
   ]
  },
  {
   "cell_type": "markdown",
   "metadata": {},
   "source": [
    "# An IOU explanation and implementaion walk through\n",
    "\n",
    "In this blogpost i will explain what is IOU, where is it used , how is it implemented"
   ]
  },
  {
   "cell_type": "markdown",
   "metadata": {},
   "source": [
    "## What is IOU\n",
    "IOU is pretty much clear by the name intersection over union.\n",
    "The formula is\n",
    "  -  **IOU = Area of Intersection / Area of union**\n",
    "  -  **Area of union = First Box Area + Second Box Area -Intersection Area**\n"
   ]
  },
  {
   "cell_type": "markdown",
   "metadata": {},
   "source": [
    "![](my_icons/iou.png)"
   ]
  },
  {
   "cell_type": "markdown",
   "metadata": {},
   "source": [
    "## How is it implemented(basic)\n",
    "\n",
    "Here i will show a simple implementation in pytorch.If you look at the below picture we \n",
    "will get a basic idea of how to get the intersection between two boxes, the rest are simple\n",
    "\n",
    "![](my_icons/iou_overlap_region.png)"
   ]
  },
  {
   "cell_type": "markdown",
   "metadata": {},
   "source": [
    "For the basic implementation of this can be found in this nice [blogpost](http://ronny.rest/tutorials/module/localization_001/iou/) and from that is basic implemenation is like this"
   ]
  },
  {
   "cell_type": "code",
   "execution_count": 3,
   "metadata": {},
   "outputs": [],
   "source": [
    "#collapse-hide\n",
    "def batch_iou(a, b, epsilon=1e-5):\n",
    "    \"\"\" Given two arrays `a` and `b` where each row contains a bounding\n",
    "        box defined as a list of four numbers:\n",
    "            [x1,y1,x2,y2]\n",
    "        where:\n",
    "            x1,y1 represent the upper left corner\n",
    "            x2,y2 represent the lower right corner\n",
    "        It returns the Intersect of Union scores for each corresponding\n",
    "        pair of boxes.\n",
    "\n",
    "    Args:\n",
    "        a:          (numpy array) each row containing [x1,y1,x2,y2] coordinates\n",
    "        b:          (numpy array) each row containing [x1,y1,x2,y2] coordinates\n",
    "        epsilon:    (float) Small value to prevent division by zero\n",
    "\n",
    "    Returns:\n",
    "        (numpy array) The Intersect of Union scores for each pair of bounding\n",
    "        boxes.\n",
    "    \"\"\"\n",
    "    # COORDINATES OF THE INTERSECTION BOXES\n",
    "    x1 = np.array([a[:, 0], b[:, 0]]).max(axis=0)\n",
    "    y1 = np.array([a[:, 1], b[:, 1]]).max(axis=0)\n",
    "    x2 = np.array([a[:, 2], b[:, 2]]).min(axis=0)\n",
    "    y2 = np.array([a[:, 3], b[:, 3]]).min(axis=0)\n",
    "\n",
    "    # AREAS OF OVERLAP - Area where the boxes intersect\n",
    "    width = (x2 - x1)\n",
    "    height = (y2 - y1)\n",
    "\n",
    "    # handle case where there is NO overlap\n",
    "    width[width < 0] = 0\n",
    "    height[height < 0] = 0\n",
    "\n",
    "    area_overlap = width * height\n",
    "\n",
    "    # COMBINED AREAS\n",
    "    area_a = (a[:, 2] - a[:, 0]) * (a[:, 3] - a[:, 1])\n",
    "    area_b = (b[:, 2] - b[:, 0]) * (b[:, 3] - b[:, 1])\n",
    "    area_combined = area_a + area_b - area_overlap\n",
    "\n",
    "    # RATIO OF AREA OF OVERLAP OVER COMBINED AREA\n",
    "    iou = area_overlap / (area_combined + epsilon)\n",
    "    return iou"
   ]
  },
  {
   "cell_type": "markdown",
   "metadata": {},
   "source": [
    "## Where is it used and how to implement for that use case"
   ]
  },
  {
   "cell_type": "markdown",
   "metadata": {},
   "source": [
    "But the above implementation assumes that both the bounding boxes have the same set of batches,which is rarely the case. IOU is mainly used in **object detection tasks**. \n",
    "\n",
    "1. We will have a set of anchors for each position in the feature map,for eg say if we have a feature map of shape 5x5 and there are 3 anchors per position then there will be 5x5x3=75 total anchors\n",
    "2. The Ground trouth boxes for that feature map may be much less the number of anchors\n",
    "3. We need to find the matching anchors to the bounding boxes, so we can select that portion of the feature map for the downstream predictions."
   ]
  },
  {
   "cell_type": "markdown",
   "metadata": {},
   "source": [
    "### Implementing for the above use case"
   ]
  },
  {
   "cell_type": "markdown",
   "metadata": {},
   "source": [
    "Basically when we get two boxes say\n",
    "\n",
    "`a- B,M,4` -- the anchor boxes after reshaping(B,A,H,W,4) where A is number of anchors\n",
    "\n",
    "`b- B,N,4` --the real bboxes. N is the max number of boxes in certain image and the other images will be padded with -1.\n",
    "\n",
    "we need to compute iou between `a` and `b` so each box in `a` is compare with each box \n",
    "in `b`. So we should make N copies of copies of each box in `a` to be compare with \n",
    "` N bboxes`. Also if we want to vectorise this operation then we need to make `M` copies  of `b`. So the final dimensions will be\n",
    "\n",
    "`a - B,M,N,4`\n",
    "`b - B,M,N,4`\n",
    "\n",
    "Now we can say like each slice of the both `a` and `b` can be compared"
   ]
  },
  {
   "cell_type": "code",
   "execution_count": 44,
   "metadata": {},
   "outputs": [
    {
     "name": "stdout",
     "output_type": "stream",
     "text": [
      "sample anchors \n",
      " tensor([[[[[ 5.,  5., 15., 15.],\n",
      "           [25., 25., 35., 35.],\n",
      "           [ 1.,  1.,  9.,  9.]]]]]) \n",
      "\n",
      "sample bboxes \n",
      " tensor([[[ 1.,  1., 11., 11.],\n",
      "         [20., 20., 30., 30.]]]) \n",
      "\n",
      "sample number of anchors shape  torch.Size([1, 1, 1, 3, 4])\n",
      "sample bboxes shape  torch.Size([1, 2, 4]) \n",
      "\n"
     ]
    }
   ],
   "source": [
    "import torch\n",
    "#say the given anchors and bboxes are in shape x_top,y_top,x_btm,y_btm\n",
    "sample_anchors = torch.tensor([[[[[5.,5,15,15], [25,25,35,35],[1,1,9,9]]]]]) #only 1 batch\n",
    "bboxes = torch.tensor([[[1.,1,11,11], [20,20,30,30]]]) \n",
    "B = bboxes.shape[0]\n",
    "no_of_bboxes = bboxes.shape[1]\n",
    "print('sample anchors \\n', sample_anchors,'\\n')\n",
    "print('sample bboxes \\n', bboxes,'\\n')\n",
    "print('sample number of anchors shape ',sample_anchors.shape)\n",
    "print('sample bboxes shape ',bboxes.shape,'\\n')"
   ]
  },
  {
   "cell_type": "markdown",
   "metadata": {},
   "source": [
    "Here we need to compare the 3 anchor boxes with the two bboxes, first we reshape the anchors to be of shape `batch,total_anchors,4`,\n",
    "\n",
    "we need to compute iou between `sample_anchors` and `bboxes` so each of the  `3` anchors are \n",
    "compared with the bboxes which is `2` here. So for vectorized implementation we should make 3 copies of copies of each anchor in `sample_anchors` to be compare with \n",
    "` 2 bboxes`. Also if we should make `3` copies  of `b` to aid in vectorized implementation. So the final dimensions will be\n",
    "\n",
    "- `sample_anchors - B,3,2,4`\n",
    "- `b=boxes - B,3,2,4`\n",
    "\n"
   ]
  },
  {
   "cell_type": "code",
   "execution_count": 45,
   "metadata": {},
   "outputs": [
    {
     "name": "stdout",
     "output_type": "stream",
     "text": [
      "tensor([[[[ 5.,  5., 15., 15.],\n",
      "          [ 5.,  5., 15., 15.]],\n",
      "\n",
      "         [[25., 25., 35., 35.],\n",
      "          [25., 25., 35., 35.]],\n",
      "\n",
      "         [[ 1.,  1.,  9.,  9.],\n",
      "          [ 1.,  1.,  9.,  9.]]]])\n",
      "torch.Size([1, 3, 2, 4])\n"
     ]
    }
   ],
   "source": [
    "sample_anchors = sample_anchors.reshape(B,-1,4)\n",
    "no_of_anchors = sample_anchors.shape[1]\n",
    "sample_anchors = sample_anchors.unsqueeze(2).expand(-1,-1,no_of_bboxes,-1)\n",
    "print(sample_anchors)\n",
    "print(sample_anchors.shape)"
   ]
  },
  {
   "cell_type": "code",
   "execution_count": 46,
   "metadata": {},
   "outputs": [
    {
     "name": "stdout",
     "output_type": "stream",
     "text": [
      "tensor([[[[ 1.,  1., 11., 11.],\n",
      "          [20., 20., 30., 30.]],\n",
      "\n",
      "         [[ 1.,  1., 11., 11.],\n",
      "          [20., 20., 30., 30.]],\n",
      "\n",
      "         [[ 1.,  1., 11., 11.],\n",
      "          [20., 20., 30., 30.]]]])\n",
      "torch.Size([1, 3, 2, 4])\n"
     ]
    }
   ],
   "source": [
    "bboxes = bboxes.unsqueeze(1).expand(-1,no_of_anchors,-1,-1)\n",
    "print(bboxes)\n",
    "print(bboxes.shape)"
   ]
  },
  {
   "cell_type": "code",
   "execution_count": 47,
   "metadata": {},
   "outputs": [
    {
     "name": "stdout",
     "output_type": "stream",
     "text": [
      "tensor([[[[  6.,   6.],\n",
      "          [ -5.,  -5.]],\n",
      "\n",
      "         [[-14., -14.],\n",
      "          [  5.,   5.]],\n",
      "\n",
      "         [[  8.,   8.],\n",
      "          [-11., -11.]]]])\n"
     ]
    }
   ],
   "source": [
    "#first we need to find the intersection for that width and height of the intersection area\n",
    "#this inturn can be obtained by finding the lefttop and bottom corner cordinates and subtracting them\n",
    "\n",
    "left_top = torch.max(sample_anchors[:,:,:,:2],bboxes[:,:,:,:2])\n",
    "right_bottom = torch.min(sample_anchors[:,:,:,2:],bboxes[:,:,:,2:])\n",
    "delta = right_bottom - left_top\n",
    "print(delta)"
   ]
  },
  {
   "cell_type": "code",
   "execution_count": 48,
   "metadata": {},
   "outputs": [
    {
     "name": "stdout",
     "output_type": "stream",
     "text": [
      "tensor([[[36.,  0.],\n",
      "         [ 0., 25.],\n",
      "         [64.,  0.]]])\n",
      "torch.Size([1, 3, 2])\n"
     ]
    }
   ],
   "source": [
    "#The first element of delta is width and the next element is height, we can remove negative values \n",
    "#since this will be boxes that are not intersecting \n",
    "#(remember the the image top left if (0,0) and bottom y is positive downwards)\n",
    "delta[delta<0]=0\n",
    "#now find the intersection area\n",
    "interesection_area = delta[:,:,:,0]*delta[:,:,:,1]\n",
    "print(interesection_area)\n",
    "print(interesection_area.shape)"
   ]
  },
  {
   "cell_type": "markdown",
   "metadata": {},
   "source": [
    "A small picture represntation is tried below,we can see that first and 3rd anchors intersect with first bounding box while the 2nd anchor intersect with the next one\n",
    "![](my_icons/iou2.png)"
   ]
  },
  {
   "cell_type": "markdown",
   "metadata": {},
   "source": [
    "From the intersection area above we can see that the where there are no itersection the area is zero\n",
    "and thus in this case the first and last anchor mathces with the first bbox while the second \n",
    "anchor mathces with the second one"
   ]
  },
  {
   "cell_type": "code",
   "execution_count": 52,
   "metadata": {},
   "outputs": [
    {
     "name": "stdout",
     "output_type": "stream",
     "text": [
      "tensor([[[0.2195, 0.0000],\n",
      "         [0.0000, 0.1429],\n",
      "         [0.6400, 0.0000]]])\n",
      "torch.Size([1, 3, 2])\n"
     ]
    }
   ],
   "source": [
    "#now we need to find the Area of union which is \n",
    "#Area of union = First Box Area + Second Box Area -Intersection Area\n",
    "sample_anchors_area = (sample_anchors[:,:,:,2]-sample_anchors[:,:,:,0])*(sample_anchors[:,:,:,3] -\n",
    "                                                                        sample_anchors[:,:,:,1])\n",
    "bbox_area = (bboxes[:,:,:,2] - bboxes[:,:,:,0]) * (bboxes[:,:,:,3] - bboxes[:,:,:,1])\n",
    "iou = interesection_area/(sample_anchors_area+bbox_area - interesection_area)\n",
    "print(iou)\n",
    "print(iou.shape)"
   ]
  },
  {
   "cell_type": "markdown",
   "metadata": {},
   "source": [
    "so the final iou matrix will have shape **(Batch,no_of_anchors,no_of_bboxes)**"
   ]
  },
  {
   "cell_type": "markdown",
   "metadata": {},
   "source": [
    "### Downstream usage of this iou\n",
    "This iou matrix will be used for calculation the regression offsets, negative anchors,ground truth class . The other place where iou is used is for mean Average Precision at the end which if possible i will explain in another post"
   ]
  },
  {
   "cell_type": "markdown",
   "metadata": {},
   "source": [
    "## Complete code \n",
    "\n",
    "Below i will provide a small code for implementing this in a batch"
   ]
  },
  {
   "cell_type": "code",
   "execution_count": 55,
   "metadata": {},
   "outputs": [],
   "source": [
    "def IOU(anchors,bboxes):\n",
    "    #anchors B,A,H,W,4\n",
    "    #bboxes B,N,4\n",
    "    B = anchors.shape[0]\n",
    "    anchors = anchors.reshape(B,-1,4)\n",
    "    M,N = anchors.shape[1],bboxes.shape[1]\n",
    "    \n",
    "    #expanding\n",
    "    anchors = anchors.unsqueeze(2).expand(-1,-1,N,-1)\n",
    "    bboxes = bboxes.unsqueeze(1).expand(-1,M,-1,-1)\n",
    "    \n",
    "    left_top = torch.max(anchors[:,:,:,:2],bboxes[:,:,:,:2])\n",
    "    right_bottom = torch.min(anchors[:,:,:,2:],bboxes[:,:,:,2:])\n",
    "    \n",
    "    delta = right_bottom - left_top\n",
    "    delta[delta<0] = 0\n",
    "    \n",
    "    intersection_area = delta[:,:,:,0]*delta[:,:,:,1]\n",
    "    \n",
    "    anchors_area = (anchors[:,:,:,2]-anchors[:,:,:,0])*(anchors[:,:,:,3] -anchors[:,:,:,1])\n",
    "    bbox_area = (bboxes[:,:,:,2] - bboxes[:,:,:,0])* (bboxes[:,:,:,3] - bboxes[:,:,:,1])\n",
    "    iou = interesection_area/(anchors_area+bbox_area - interesection_area)\n",
    "    \n",
    "    return iou"
   ]
  },
  {
   "cell_type": "code",
   "execution_count": null,
   "metadata": {},
   "outputs": [],
   "source": []
  }
 ],
 "metadata": {
  "kernelspec": {
   "display_name": "Python 3",
   "language": "python",
   "name": "python3"
  },
  "language_info": {
   "codemirror_mode": {
    "name": "ipython",
    "version": 3
   },
   "file_extension": ".py",
   "mimetype": "text/x-python",
   "name": "python",
   "nbconvert_exporter": "python",
   "pygments_lexer": "ipython3",
   "version": "3.7.7"
  }
 },
 "nbformat": 4,
 "nbformat_minor": 4
}
